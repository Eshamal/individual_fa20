{
 "cells": [
  {
   "cell_type": "markdown",
   "metadata": {},
   "source": [
    "# COGS 108 - Project Proposal"
   ]
  },
  {
   "cell_type": "markdown",
   "metadata": {},
   "source": [
    "# Names & GitHub ID\n",
    "\n",
    "- Name: Elaha Shamal\n",
    "- GitHub Username: Eshamal"
   ]
  },
  {
   "cell_type": "markdown",
   "metadata": {},
   "source": [
    "# Research Question"
   ]
  },
  {
   "cell_type": "markdown",
   "metadata": {},
   "source": [
    " By analyzing tweets and yelp reviews can we identify safety problems with San Diego's park and Recreation?"
   ]
  },
  {
   "cell_type": "markdown",
   "metadata": {},
   "source": [
    "## Background and Prior Work"
   ]
  },
  {
   "cell_type": "markdown",
   "metadata": {},
   "source": [
    "The city of San Diego has more than 400 parks, not including neighboring cities and areas. Many of these parks have a history of crime, gangs, and violent activity.  \n",
    "  \n",
    "For instance, in Balderrama Park in Oceanside, on September 3, 2016, a young Latino girl, Annabell, was shot and killed by two gang members who claim to have been looking for a rival gang member.  \n",
    "  \n",
    "Balboa Park, one of San Diego’s most famous parks, measuring 1172 acres, attracts more than 20 million visitors per year. Balboa Park also has a history of violence. It was just before noon on February 27, 1985, when a 40-year-old actor named David Huffman was stabbed to death in Palm Canyon by a 17-year-old undocumented immigrant from Mexico. \n",
    " \n",
    " On Saturday, August 4, 2018, in response to a 911 call, police found a 38-year-old man dying of a stab wound in Redwood Circle park. Police later arrested the 911 caller for the murder.\n",
    "At Southcrest Community Park on Friday, February 7, 2020, an unknown assailant shot and killed a woman and wounded a man.(2)  \n",
    "  \n",
    " On March 18, 2019, San Diego City Council voted to enforce nighttime curfews at five city parks, which residents say are breeding grounds for drugs, vandalism, and other illegal activity.(1)\n",
    "  \n",
    "References:\n",
    "- 1)https://www.sandiegouniontribune.com/communities/san-diego/sd-me-park-curfews-20190318-story.html\n",
    "- 2) https://www.sandiegoreader.com/news/2020/jun/03/cover-san-diegos-deadliest-park\n"
   ]
  },
  {
   "cell_type": "markdown",
   "metadata": {},
   "source": [
    "# Hypothesis\n"
   ]
  },
  {
   "cell_type": "markdown",
   "metadata": {},
   "source": [
    "I hypothesize that residents will tweet on Twitter and post reviews on yelp in concern for their safety. San Diego police will also be tweeting about their concerns. Parks are a place that families and kids go; therefore, their safety is a priority and a major concern. "
   ]
  },
  {
   "cell_type": "markdown",
   "metadata": {},
   "source": [
    "# Data"
   ]
  },
  {
   "cell_type": "markdown",
   "metadata": {},
   "source": [
    "The ideal dataset will have columns containing tweets about San Diego parks' safety issues, locations, dates, and times of safety concerns. I will gather this information using Twitter's API Tweepy to form my data frame. The tweets will be from individuals who feel unsafe as well as from the San Diego Police. Similarly, using Beautiful Soup, I will gather a data frame based on Yelp reviews from parks, containing dates and locations."
   ]
  },
  {
   "cell_type": "markdown",
   "metadata": {},
   "source": [
    "# Ethics & Privacy"
   ]
  },
  {
   "cell_type": "markdown",
   "metadata": {},
   "source": [
    "- I do not have permission from users on Twitter and Yelp.\n",
    "  \n",
    "- There is a privacy concern with sharing people's usernames.\n",
    "  \n",
    "- The dataset will be biased because it only represents those who use Twitter or Yelp.\n",
    "  \n",
    "I have solutions for these privacy concerns. Even though I will not have explicit permission from each user on Twitter, the Twitter API Tweepy allows such data collection. I will be able to anonymize the usernames in my dataset. I will also be using tweets from the police department and data regarding criminal activity made available by the City of San Diego to decrease bias. Even though data concerning a park's safety is already public record, the data could highlight unsafe parks in San Diego."
   ]
  },
  {
   "cell_type": "code",
   "execution_count": null,
   "metadata": {},
   "outputs": [],
   "source": []
  }
 ],
 "metadata": {
  "kernelspec": {
   "display_name": "Python 3",
   "language": "python",
   "name": "python3"
  },
  "language_info": {
   "codemirror_mode": {
    "name": "ipython",
    "version": 3
   },
   "file_extension": ".py",
   "mimetype": "text/x-python",
   "name": "python",
   "nbconvert_exporter": "python",
   "pygments_lexer": "ipython3",
   "version": "3.7.6"
  }
 },
 "nbformat": 4,
 "nbformat_minor": 2
}
